{
 "cells": [
  {
   "cell_type": "code",
   "execution_count": 170,
   "metadata": {
    "collapsed": true
   },
   "outputs": [],
   "source": [
    "import torch\n",
    "import torch.nn as nn\n",
    "from torch.autograd import Function, Variable\n",
    "from torch.nn.parameter import Parameter\n",
    "import torch.nn.functional as F\n",
    "from qpth.qp import QPFunction\n",
    "\n",
    "import pandas as pd\n",
    "import numpy as np\n",
    "from matplotlib import ticker\n",
    "from matplotlib import cm\n",
    "import matplotlib.pyplot as plt\n",
    "from mpl_toolkits.mplot3d import Axes3D\n",
    "\n",
    "from sklearn.model_selection import KFold\n",
    "from sklearn.datasets import make_regression\n",
    "from sklearn.utils import shuffle\n",
    "from sklearn.linear_model import LinearRegression\n",
    "from sklearn import preprocessing"
   ]
  },
  {
   "cell_type": "code",
   "execution_count": 171,
   "metadata": {},
   "outputs": [
    {
     "data": {
      "text/plain": [
       "<torch._C.Generator at 0x1120d2bb0>"
      ]
     },
     "execution_count": 171,
     "metadata": {},
     "output_type": "execute_result"
    }
   ],
   "source": [
    "np.random.seed(0)\n",
    "torch.manual_seed(0)"
   ]
  },
  {
   "cell_type": "code",
   "execution_count": 172,
   "metadata": {
    "collapsed": true
   },
   "outputs": [],
   "source": [
    "# plotting parameters\n",
    "plt.rc('font', family='serif', serif='Times')\n",
    "plt.rc('text', usetex=True)\n",
    "plt.rc('xtick', labelsize=10)\n",
    "plt.rc('ytick', labelsize=10)\n",
    "plt.rc('axes', labelsize=10)\n",
    "plt.rc('legend', fontsize=10)\n",
    "\n",
    "width = 5\n",
    "height = width/1.618"
   ]
  },
  {
   "cell_type": "markdown",
   "metadata": {},
   "source": [
    "## Differentiable Elastic-net regression\n",
    "\n",
    "The function `batch_solve` performs batched elastic-net regression. Given a K x N x n tensor of `Xs` data and K x N tensor `ys` of targets, the function converts the data into the matrices for the QP solved by elastic-net regression and returns the learned coefficient vectors and intercepts."
   ]
  },
  {
   "cell_type": "code",
   "execution_count": 173,
   "metadata": {
    "collapsed": true
   },
   "outputs": [],
   "source": [
    "def batch_solve(Xs, ys, lamb):\n",
    "    batch_size, N, n = Xs.size()\n",
    "\n",
    "    # since elastic-net does not penalize intercepts, find intercepts\n",
    "    intercepts = Variable(torch.zeros(batch_size, 1))\n",
    "    for i in range(batch_size):\n",
    "        lr = LinearRegression()\n",
    "        lr.fit(Xs[i].data.numpy(), ys[i].data.numpy())\n",
    "        intercepts[i] = torch.FloatTensor([lr.intercept_[0]]).unsqueeze(-1)\n",
    "    \n",
    "    # form tensors X^T X and X^T (y-intercepts)\n",
    "    XtX = torch.bmm(Xs.transpose(1,2), Xs)\n",
    "    Xty = torch.bmm(Xs.transpose(1,2), (ys.squeeze(-1) - intercepts).unsqueeze(-1))\n",
    "    \n",
    "    # useful tensors\n",
    "    eye = Variable(torch.eye(n).repeat([batch_size, 1, 1]))\n",
    "    ones = Variable(torch.ones(n,1).repeat([batch_size, 1, 1]))\n",
    "    \n",
    "    # form QP parameters\n",
    "    Q = torch.cat([\n",
    "        torch.cat([1./N*XtX+lamb[1]*eye, -1./N*XtX],1),\n",
    "        torch.cat([-1./N*XtX, 1./N*XtX+lamb[1]*eye],1)\n",
    "    ],2)\n",
    "    p = torch.cat([-1./N*Xty+lamb[0]*ones, 1./N*Xty+lamb[0]*ones],1).squeeze()\n",
    "    G = Variable(-torch.eye(2*n).repeat([batch_size, 1, 1]))\n",
    "    h = Variable(torch.zeros(batch_size, 2*n))\n",
    "    e = Variable(torch.Tensor())\n",
    "    \n",
    "    # batch solve QP\n",
    "    z = QPFunction(verbose=-1)(Q,p,G,h,e,e)\n",
    "    \n",
    "    # return coefficient vector and intercepts\n",
    "    return z[:,:n] - z[:,n:], intercepts"
   ]
  },
  {
   "cell_type": "markdown",
   "metadata": {},
   "source": [
    "## Make dataset\n",
    "\n",
    "Next, we construct artificial regression data with $N=1000$ and $n=10$, but only $8$ of the features are informative."
   ]
  },
  {
   "cell_type": "code",
   "execution_count": 176,
   "metadata": {},
   "outputs": [
    {
     "name": "stdout",
     "output_type": "stream",
     "text": [
      "coefficients [0.98982973 0.08412531 0.23580962 0.63365848 0.37441971 0.5469327\n",
      " 0.92164717 0.         0.29819623 0.        ]\n",
      "E[y] 0.005752656861007601\n",
      "std[y] 1.8610587417372477\n"
     ]
    }
   ],
   "source": [
    "N = 1000\n",
    "n = 10\n",
    "X, y, coef = make_regression(N, n, n_informative=8, noise=100., \\\n",
    "                             tail_strength=0., coef=True)\n",
    "y /= 100.\n",
    "coef /= 100.\n",
    "print (\"coefficients\", coef)\n",
    "print (\"E[y]\", np.mean(y))\n",
    "print (\"std[y]\", np.std(y))"
   ]
  },
  {
   "cell_type": "markdown",
   "metadata": {},
   "source": [
    "Next, we select only 30 of the points to be training points and convert them to pytorch variables."
   ]
  },
  {
   "cell_type": "code",
   "execution_count": 177,
   "metadata": {},
   "outputs": [
    {
     "name": "stdout",
     "output_type": "stream",
     "text": [
      "ntrain: 30\n",
      "ntest: 970\n"
     ]
    }
   ],
   "source": [
    "N, n = X.shape\n",
    "\n",
    "ntrain = 30\n",
    "ntest = N-ntrain\n",
    "print (\"ntrain:\", ntrain)\n",
    "print (\"ntest:\", ntest)\n",
    "\n",
    "X_train, y_train = X[:ntrain,:], y[:ntrain]\n",
    "X_test, y_test = X[ntrain:,:], y[ntrain:]\n",
    "\n",
    "X_train = Variable(torch.FloatTensor(X_train), requires_grad=False)\n",
    "y_train = Variable(torch.FloatTensor(y_train), requires_grad=False).unsqueeze(-1)\n",
    "X_test = Variable(torch.FloatTensor(X_test), requires_grad=False)\n",
    "y_test = Variable(torch.FloatTensor(y_test), requires_grad=False).unsqueeze(-1)"
   ]
  },
  {
   "cell_type": "markdown",
   "metadata": {},
   "source": [
    "Next, we split the training data into $64$ random partitions with $27$ training points and $3$ validation points."
   ]
  },
  {
   "cell_type": "code",
   "execution_count": 178,
   "metadata": {
    "collapsed": true
   },
   "outputs": [],
   "source": [
    "# split into K random partitions\n",
    "K = 128\n",
    "f = .95\n",
    "Xs_train = torch.zeros(K, int(ntrain*f), n)\n",
    "ys_train = torch.zeros(K, int(ntrain*f), 1)\n",
    "Xs_val = torch.zeros(K, ntrain-int(ntrain*f), n)\n",
    "ys_val = torch.zeros(K, ntrain-int(ntrain*f), 1)\n",
    "\n",
    "for i in range(K):\n",
    "    indices = np.random.permutation(ntrain)\n",
    "    training_idx, val_idx = indices[:int(ntrain*f)], indices[int(ntrain*f):]\n",
    "    training_idx = torch.LongTensor(training_idx)\n",
    "    val_idx = torch.LongTensor(val_idx)\n",
    "    # fit scaling to training data, but apply to all data.\n",
    "    scaler = preprocessing.StandardScaler().fit(X_train[training_idx].data.numpy())\n",
    "    X_train1 = Variable(torch.Tensor(scaler.transform(X_train.data.numpy())))\n",
    "    Xs_train[i] = X_train1[training_idx]; ys_train[i] = y_train[training_idx]\n",
    "    Xs_val[i] = X_train1[val_idx]; ys_val[i] = y_train[val_idx]\n",
    "\n",
    "scaler = preprocessing.StandardScaler().fit(X_train.data.numpy())\n",
    "X_train1 = Variable(torch.Tensor(scaler.transform(X_train.data.numpy())))\n",
    "X_test1 = Variable(torch.Tensor(scaler.transform(X_test.data.numpy())))"
   ]
  },
  {
   "cell_type": "markdown",
   "metadata": {},
   "source": [
    "### Standard Linear Regression"
   ]
  },
  {
   "cell_type": "code",
   "execution_count": 179,
   "metadata": {},
   "outputs": [
    {
     "data": {
      "text/plain": [
       "1.2847221015464214"
      ]
     },
     "execution_count": 179,
     "metadata": {},
     "output_type": "execute_result"
    }
   ],
   "source": [
    "lr = LinearRegression()\n",
    "lr.fit(X_train.data.numpy(), y_train.data.numpy())\n",
    "lr_loss = np.linalg.norm(lr.predict(X_test.data.numpy()) - y_test.data.numpy())**2 / y_test.shape[0]\n",
    "lr_loss"
   ]
  },
  {
   "cell_type": "markdown",
   "metadata": {},
   "source": [
    "### Loss achieved by true coefficients"
   ]
  },
  {
   "cell_type": "code",
   "execution_count": 180,
   "metadata": {},
   "outputs": [
    {
     "data": {
      "text/plain": [
       "0.960613829513703"
      ]
     },
     "execution_count": 180,
     "metadata": {},
     "output_type": "execute_result"
    }
   ],
   "source": [
    "best_loss = np.linalg.norm(np.dot(X_test.data.numpy(), coef) - y_test.data.numpy().flatten())**2 / y_test.size()[0]\n",
    "best_loss"
   ]
  },
  {
   "cell_type": "markdown",
   "metadata": {},
   "source": [
    "### CVGM"
   ]
  },
  {
   "cell_type": "code",
   "execution_count": 191,
   "metadata": {
    "collapsed": true
   },
   "outputs": [],
   "source": [
    "lamb = Variable(torch.FloatTensor([1e-2,1e-4]), requires_grad=True)\n",
    "optimizer = torch.optim.SGD([lamb], lr=2e-4)"
   ]
  },
  {
   "cell_type": "code",
   "execution_count": 192,
   "metadata": {},
   "outputs": [
    {
     "name": "stdout",
     "output_type": "stream",
     "text": [
      "5.611355304718018\n",
      "test loss: 1.222 | lamb_1: 0.01085 | lamb_2 0.00083\n",
      "5.558211326599121\n",
      "test loss: 1.216 | lamb_1: 0.01170 | lamb_2 0.00155\n",
      "5.390768051147461\n",
      "test loss: 1.209 | lamb_1: 0.01253 | lamb_2 0.00224\n",
      "5.199543476104736\n",
      "test loss: 1.203 | lamb_1: 0.01332 | lamb_2 0.00291\n",
      "5.038514137268066\n",
      "test loss: 1.198 | lamb_1: 0.01408 | lamb_2 0.00357\n",
      "4.863897800445557\n",
      "test loss: 1.192 | lamb_1: 0.01481 | lamb_2 0.00422\n",
      "4.927940368652344\n",
      "test loss: 1.187 | lamb_1: 0.01557 | lamb_2 0.00485\n",
      "4.998310089111328\n",
      "test loss: 1.182 | lamb_1: 0.01634 | lamb_2 0.00548\n",
      "4.671179294586182\n",
      "test loss: 1.177 | lamb_1: 0.01703 | lamb_2 0.00611\n",
      "4.652484893798828\n",
      "test loss: 1.173 | lamb_1: 0.01773 | lamb_2 0.00673\n",
      "4.54174280166626\n",
      "test loss: 1.168 | lamb_1: 0.01840 | lamb_2 0.00734\n",
      "4.808726787567139\n",
      "test loss: 1.164 | lamb_1: 0.01914 | lamb_2 0.00795\n",
      "4.699917793273926\n",
      "test loss: 1.160 | lamb_1: 0.01986 | lamb_2 0.00856\n",
      "4.765109062194824\n",
      "test loss: 1.156 | lamb_1: 0.02060 | lamb_2 0.00916\n",
      "4.6783294677734375\n",
      "test loss: 1.152 | lamb_1: 0.02133 | lamb_2 0.00975\n",
      "4.576916217803955\n",
      "test loss: 1.148 | lamb_1: 0.02204 | lamb_2 0.01033\n",
      "4.479945182800293\n",
      "test loss: 1.144 | lamb_1: 0.02273 | lamb_2 0.01089\n",
      "4.349320888519287\n",
      "test loss: 1.140 | lamb_1: 0.02340 | lamb_2 0.01145\n",
      "4.375519752502441\n",
      "test loss: 1.137 | lamb_1: 0.02409 | lamb_2 0.01199\n",
      "4.285048007965088\n",
      "test loss: 1.134 | lamb_1: 0.02476 | lamb_2 0.01252\n",
      "4.262395858764648\n",
      "test loss: 1.131 | lamb_1: 0.02542 | lamb_2 0.01306\n",
      "3.969301462173462\n",
      "test loss: 1.128 | lamb_1: 0.02602 | lamb_2 0.01359\n",
      "3.9536752700805664\n",
      "test loss: 1.125 | lamb_1: 0.02661 | lamb_2 0.01411\n",
      "4.32999849319458\n",
      "test loss: 1.122 | lamb_1: 0.02729 | lamb_2 0.01464\n",
      "4.130246162414551\n",
      "test loss: 1.120 | lamb_1: 0.02793 | lamb_2 0.01517\n",
      "4.050950050354004\n",
      "test loss: 1.117 | lamb_1: 0.02855 | lamb_2 0.01569\n",
      "4.109579086303711\n",
      "test loss: 1.115 | lamb_1: 0.02919 | lamb_2 0.01620\n",
      "4.125579833984375\n",
      "test loss: 1.112 | lamb_1: 0.02982 | lamb_2 0.01673\n",
      "4.162653923034668\n",
      "test loss: 1.110 | lamb_1: 0.03046 | lamb_2 0.01726\n",
      "4.101891994476318\n",
      "test loss: 1.107 | lamb_1: 0.03110 | lamb_2 0.01779\n",
      "4.037259101867676\n",
      "test loss: 1.105 | lamb_1: 0.03172 | lamb_2 0.01830\n",
      "3.970074415206909\n",
      "test loss: 1.103 | lamb_1: 0.03233 | lamb_2 0.01881\n",
      "3.907824754714966\n",
      "test loss: 1.101 | lamb_1: 0.03293 | lamb_2 0.01931\n",
      "3.8480544090270996\n",
      "test loss: 1.099 | lamb_1: 0.03352 | lamb_2 0.01980\n",
      "3.7884857654571533\n",
      "test loss: 1.097 | lamb_1: 0.03411 | lamb_2 0.02028\n",
      "3.7657597064971924\n",
      "test loss: 1.096 | lamb_1: 0.03469 | lamb_2 0.02076\n",
      "3.4572904109954834\n",
      "test loss: 1.094 | lamb_1: 0.03519 | lamb_2 0.02123\n",
      "3.4457380771636963\n",
      "test loss: 1.093 | lamb_1: 0.03570 | lamb_2 0.02169\n",
      "3.346522569656372\n",
      "test loss: 1.091 | lamb_1: 0.03620 | lamb_2 0.02215\n",
      "3.304234266281128\n",
      "test loss: 1.090 | lamb_1: 0.03668 | lamb_2 0.02260\n",
      "3.2553865909576416\n",
      "test loss: 1.089 | lamb_1: 0.03716 | lamb_2 0.02304\n",
      "3.1343834400177\n",
      "test loss: 1.087 | lamb_1: 0.03761 | lamb_2 0.02348\n",
      "3.096466064453125\n",
      "test loss: 1.086 | lamb_1: 0.03806 | lamb_2 0.02391\n",
      "3.080622673034668\n",
      "test loss: 1.085 | lamb_1: 0.03850 | lamb_2 0.02433\n",
      "3.0438120365142822\n",
      "test loss: 1.084 | lamb_1: 0.03894 | lamb_2 0.02475\n",
      "2.898885488510132\n",
      "test loss: 1.083 | lamb_1: 0.03935 | lamb_2 0.02516\n",
      "2.889848232269287\n",
      "test loss: 1.082 | lamb_1: 0.03976 | lamb_2 0.02557\n",
      "2.851823568344116\n",
      "test loss: 1.082 | lamb_1: 0.04017 | lamb_2 0.02597\n",
      "2.819805145263672\n",
      "test loss: 1.081 | lamb_1: 0.04057 | lamb_2 0.02637\n",
      "2.851841449737549\n",
      "test loss: 1.080 | lamb_1: 0.04098 | lamb_2 0.02677\n",
      "2.829739570617676\n",
      "test loss: 1.079 | lamb_1: 0.04138 | lamb_2 0.02716\n",
      "2.7985239028930664\n",
      "test loss: 1.079 | lamb_1: 0.04178 | lamb_2 0.02755\n",
      "2.7776968479156494\n",
      "test loss: 1.078 | lamb_1: 0.04218 | lamb_2 0.02794\n",
      "2.7915220260620117\n",
      "test loss: 1.077 | lamb_1: 0.04259 | lamb_2 0.02832\n",
      "2.8351314067840576\n",
      "test loss: 1.077 | lamb_1: 0.04300 | lamb_2 0.02871\n",
      "2.870361804962158\n",
      "test loss: 1.076 | lamb_1: 0.04343 | lamb_2 0.02909\n",
      "2.8615481853485107\n",
      "test loss: 1.076 | lamb_1: 0.04385 | lamb_2 0.02948\n",
      "2.942357301712036\n",
      "test loss: 1.075 | lamb_1: 0.04430 | lamb_2 0.02986\n",
      "2.9214510917663574\n",
      "test loss: 1.074 | lamb_1: 0.04474 | lamb_2 0.03024\n",
      "2.9742870330810547\n",
      "test loss: 1.074 | lamb_1: 0.04520 | lamb_2 0.03062\n",
      "2.946556806564331\n",
      "test loss: 1.073 | lamb_1: 0.04565 | lamb_2 0.03100\n",
      "2.8501713275909424\n",
      "test loss: 1.073 | lamb_1: 0.04608 | lamb_2 0.03137\n",
      "2.8552300930023193\n",
      "test loss: 1.072 | lamb_1: 0.04652 | lamb_2 0.03174\n",
      "2.832441806793213\n",
      "test loss: 1.072 | lamb_1: 0.04695 | lamb_2 0.03211\n",
      "2.8524742126464844\n",
      "test loss: 1.072 | lamb_1: 0.04738 | lamb_2 0.03248\n",
      "2.821016311645508\n",
      "test loss: 1.071 | lamb_1: 0.04781 | lamb_2 0.03285\n",
      "2.789885997772217\n",
      "test loss: 1.071 | lamb_1: 0.04824 | lamb_2 0.03321\n",
      "2.7634849548339844\n",
      "test loss: 1.071 | lamb_1: 0.04866 | lamb_2 0.03356\n",
      "2.752246856689453\n",
      "test loss: 1.070 | lamb_1: 0.04908 | lamb_2 0.03392\n",
      "2.7659661769866943\n",
      "test loss: 1.070 | lamb_1: 0.04950 | lamb_2 0.03427\n",
      "2.723071575164795\n",
      "test loss: 1.070 | lamb_1: 0.04992 | lamb_2 0.03462\n",
      "2.6964452266693115\n",
      "test loss: 1.070 | lamb_1: 0.05034 | lamb_2 0.03496\n",
      "2.668980121612549\n",
      "test loss: 1.070 | lamb_1: 0.05075 | lamb_2 0.03530\n",
      "2.641355514526367\n",
      "test loss: 1.069 | lamb_1: 0.05116 | lamb_2 0.03564\n",
      "2.6652045249938965\n",
      "test loss: 1.069 | lamb_1: 0.05157 | lamb_2 0.03598\n",
      "2.674550771713257\n",
      "test loss: 1.069 | lamb_1: 0.05199 | lamb_2 0.03631\n",
      "2.682433605194092\n",
      "test loss: 1.069 | lamb_1: 0.05241 | lamb_2 0.03665\n",
      "2.6584630012512207\n",
      "test loss: 1.069 | lamb_1: 0.05282 | lamb_2 0.03698\n",
      "2.643310546875\n",
      "test loss: 1.069 | lamb_1: 0.05324 | lamb_2 0.03731\n",
      "2.623047113418579\n",
      "test loss: 1.069 | lamb_1: 0.05365 | lamb_2 0.03763\n",
      "2.6066131591796875\n",
      "test loss: 1.069 | lamb_1: 0.05406 | lamb_2 0.03795\n",
      "2.6008224487304688\n",
      "test loss: 1.069 | lamb_1: 0.05447 | lamb_2 0.03828\n",
      "2.5957510471343994\n",
      "test loss: 1.070 | lamb_1: 0.05488 | lamb_2 0.03860\n",
      "2.6243364810943604\n",
      "test loss: 1.070 | lamb_1: 0.05530 | lamb_2 0.03891\n",
      "2.601677179336548\n",
      "test loss: 1.071 | lamb_1: 0.05571 | lamb_2 0.03923\n",
      "2.5973658561706543\n",
      "test loss: 1.071 | lamb_1: 0.05613 | lamb_2 0.03954\n",
      "2.7041828632354736\n",
      "test loss: 1.072 | lamb_1: 0.05657 | lamb_2 0.03984\n",
      "2.677898645401001\n",
      "test loss: 1.072 | lamb_1: 0.05701 | lamb_2 0.04015\n",
      "2.574845790863037\n",
      "test loss: 1.073 | lamb_1: 0.05743 | lamb_2 0.04045\n",
      "2.5518147945404053\n",
      "test loss: 1.073 | lamb_1: 0.05785 | lamb_2 0.04074\n",
      "2.524495840072632\n",
      "test loss: 1.074 | lamb_1: 0.05826 | lamb_2 0.04103\n",
      "2.4810383319854736\n",
      "test loss: 1.074 | lamb_1: 0.05867 | lamb_2 0.04132\n",
      "2.374056816101074\n",
      "test loss: 1.075 | lamb_1: 0.05905 | lamb_2 0.04160\n",
      "2.3478705883026123\n",
      "test loss: 1.075 | lamb_1: 0.05942 | lamb_2 0.04188\n",
      "2.33052921295166\n",
      "test loss: 1.076 | lamb_1: 0.05980 | lamb_2 0.04216\n",
      "2.3107306957244873\n",
      "test loss: 1.076 | lamb_1: 0.06017 | lamb_2 0.04244\n",
      "2.316617012023926\n",
      "test loss: 1.077 | lamb_1: 0.06054 | lamb_2 0.04271\n",
      "2.2973365783691406\n",
      "test loss: 1.077 | lamb_1: 0.06091 | lamb_2 0.04298\n",
      "2.2757716178894043\n",
      "test loss: 1.078 | lamb_1: 0.06128 | lamb_2 0.04325\n"
     ]
    }
   ],
   "source": [
    "val_losses, test_losses = [], []\n",
    "for k in range(1,100):\n",
    "    zs, intercepts = batch_solve(X_train1.repeat([1,1,1]), y_train.repeat([1,1,1]), lamb.detach())\n",
    "    Xz_minus_y = torch.mm(X_test1, zs.squeeze(0).unsqueeze(-1)) + intercepts - y_test\n",
    "    test_loss = torch.norm(Xz_minus_y)**2 / (X_test.size()[0])\n",
    "    z_test = zs.squeeze()\n",
    "    \n",
    "    def step():\n",
    "        optimizer.zero_grad()\n",
    "        zs, intercepts = batch_solve(Xs_train, ys_train, lamb)\n",
    "        Xz_minus_y = torch.bmm(Xs_val, zs.unsqueeze(-1)).squeeze() + intercepts - ys_val.squeeze()\n",
    "        loss = torch.norm(Xz_minus_y)**2 / (K * Xs_val.size()[1])\n",
    "        loss.backward()\n",
    "        return loss\n",
    "    optimizer.step(step)\n",
    "    if lamb[1].data.item() < 1e-7:\n",
    "        lamb.data[1] = torch.FloatTensor([1e-7])\n",
    "    if lamb[0].data.item() <= 0:\n",
    "        lamb.data[0] = torch.FloatTensor([1e-8])\n",
    "\n",
    "    print (torch.norm(lamb.grad.data).item())\n",
    "    print (\"test loss: %.3f | lamb_1: %.5f | lamb_2 %.5f\" \\\n",
    "           % (test_loss.item(), lamb[0].data.item(), lamb[1].data.item()))\n",
    "    test_losses.append(test_loss.item())"
   ]
  },
  {
   "cell_type": "markdown",
   "metadata": {},
   "source": [
    "### Exhaustive Search"
   ]
  },
  {
   "cell_type": "code",
   "execution_count": 185,
   "metadata": {},
   "outputs": [
    {
     "name": "stdout",
     "output_type": "stream",
     "text": [
      "1.2836827039718628\n",
      "1.283287525177002\n",
      "1.28243887424469\n",
      "1.2806226015090942\n",
      "1.2767685651779175\n",
      "1.2687300443649292\n",
      "1.2525817155838013\n",
      "1.2226037979125977\n",
      "1.1763238906860352\n",
      "1.1325914859771729\n",
      "1.1323691606521606\n",
      "1.1318926811218262\n",
      "1.1308776140213013\n",
      "1.1287450790405273\n",
      "1.1243939399719238\n",
      "1.1161717176437378\n",
      "1.1037893295288086\n",
      "1.1059244871139526\n",
      "1.13079833984375\n",
      "1.1540684700012207\n",
      "1.2074096202850342\n"
     ]
    }
   ],
   "source": [
    "lambda_1s = np.logspace(-4,-1,10)\n",
    "lambda_2s = np.logspace(-4,-1,10)\n",
    "\n",
    "best_val_loss = float(\"inf\")\n",
    "best_test_loss = float(\"inf\")\n",
    "test_losses_es = []\n",
    "\n",
    "for lambda_1 in lambda_1s:\n",
    "    for lambda_2 in lambda_2s:\n",
    "        lamb = Variable(torch.FloatTensor([lambda_1,lambda_2]), requires_grad=False)\n",
    "        zs, intercepts = batch_solve(X_train1.repeat([1,1,1]), y_train.repeat([1,1,1]), lamb)\n",
    "        Xz_minus_y = torch.mm(X_test1, zs.squeeze(0).unsqueeze(-1)) + intercepts - y_test\n",
    "        test_loss = torch.norm(Xz_minus_y)**2 / (X_test.size()[0])\n",
    "        z_test = zs.squeeze()\n",
    "\n",
    "        zs, intercepts = batch_solve(Xs_train, ys_train, lamb)\n",
    "        Xz_minus_y = torch.bmm(Xs_val, zs.unsqueeze(-1)).squeeze() + intercepts - ys_val.squeeze()\n",
    "        loss = torch.norm(Xz_minus_y)**2 / (K * Xs_val.size()[1])\n",
    "\n",
    "        if loss.item() < best_val_loss:\n",
    "            best_val_loss = loss.item()\n",
    "            best_test_loss = test_loss.item()\n",
    "            print (best_test_loss)\n",
    "        test_losses_es.append(best_test_loss)"
   ]
  },
  {
   "cell_type": "markdown",
   "metadata": {},
   "source": [
    "### Random Search"
   ]
  },
  {
   "cell_type": "code",
   "execution_count": 186,
   "metadata": {},
   "outputs": [
    {
     "name": "stdout",
     "output_type": "stream",
     "text": [
      "1.282341718673706\n",
      "1.2604131698608398\n",
      "1.13634192943573\n",
      "1.1333262920379639\n",
      "1.0839056968688965\n",
      "1.083789587020874\n"
     ]
    }
   ],
   "source": [
    "best_val_loss = float(\"inf\")\n",
    "best_test_loss_rs = float(\"inf\")\n",
    "test_losses_rs = []\n",
    "for _ in range(100):\n",
    "    lamb = Variable(torch.FloatTensor([10**np.random.uniform(-4,-1),10**np.random.uniform(-4,-1)]), requires_grad=False)\n",
    "    zs, intercepts = batch_solve(X_train1.repeat([1,1,1]), y_train.repeat([1,1,1]), lamb)\n",
    "    Xz_minus_y = torch.mm(X_test1, zs.squeeze(0).unsqueeze(-1)) + intercepts - y_test\n",
    "    test_loss = torch.norm(Xz_minus_y)**2 / (X_test.size()[0])\n",
    "    z_test = zs.squeeze()\n",
    "\n",
    "    zs, intercepts = batch_solve(Xs_train, ys_train, lamb)\n",
    "    Xz_minus_y = torch.bmm(Xs_val, zs.unsqueeze(-1)).squeeze() + intercepts - ys_val.squeeze()\n",
    "    loss = torch.norm(Xz_minus_y)**2 / (K * Xs_val.size()[1])\n",
    "\n",
    "    if loss.item() < best_val_loss:\n",
    "        best_val_loss = loss.item()\n",
    "        best_test_loss = test_loss.item()\n",
    "        print (best_test_loss)\n",
    "    test_losses_rs.append(best_test_loss)"
   ]
  },
  {
   "cell_type": "markdown",
   "metadata": {},
   "source": [
    "### Plot and final results"
   ]
  },
  {
   "cell_type": "code",
   "execution_count": 193,
   "metadata": {},
   "outputs": [
    {
     "data": {
      "image/png": "[encoded data removed]",
      "text/plain": [
       "<matplotlib.figure.Figure at 0x1a23ce5198>"
      ]
     },
     "metadata": {},
     "output_type": "display_data"
    }
   ],
   "source": [
    "fig = plt.figure()\n",
    "plt.plot(test_losses_rs[:100], label='random search')\n",
    "plt.plot(test_losses, label='cvgm')\n",
    "plt.plot(test_losses_es, label='exhaustive search')\n",
    "plt.legend()\n",
    "plt.xlabel('iteration')\n",
    "plt.ylabel('test loss')\n",
    "fig.set_size_inches(width, height)\n",
    "plt.savefig('figures/comparison.pdf')\n",
    "plt.show()"
   ]
  },
  {
   "cell_type": "code",
   "execution_count": 188,
   "metadata": {},
   "outputs": [
    {
     "name": "stdout",
     "output_type": "stream",
     "text": [
      "cvgm test: 1.080196499824524\n"
     ]
    },
    {
     "ename": "IndexError",
     "evalue": "list index out of range",
     "output_type": "error",
     "traceback": [
      "\u001b[0;31m---------------------------------------------------------------------------\u001b[0m",
      "\u001b[0;31mIndexError\u001b[0m                                Traceback (most recent call last)",
      "\u001b[0;32m<ipython-input-188-e26c5459e0a9>\u001b[0m in \u001b[0;36m<module>\u001b[0;34m()\u001b[0m\n\u001b[1;32m      1\u001b[0m \u001b[0mprint\u001b[0m \u001b[0;34m(\u001b[0m\u001b[0;34m\"cvgm test:\"\u001b[0m\u001b[0;34m,\u001b[0m \u001b[0mtest_losses\u001b[0m\u001b[0;34m[\u001b[0m\u001b[0;34m-\u001b[0m\u001b[0;36m1\u001b[0m\u001b[0;34m]\u001b[0m\u001b[0;34m)\u001b[0m\u001b[0;34m\u001b[0m\u001b[0m\n\u001b[0;32m----> 2\u001b[0;31m \u001b[0mprint\u001b[0m \u001b[0;34m(\u001b[0m\u001b[0;34m\"rs test:\"\u001b[0m\u001b[0;34m,\u001b[0m \u001b[0mtest_losses_rs\u001b[0m\u001b[0;34m[\u001b[0m\u001b[0;36m100\u001b[0m\u001b[0;34m]\u001b[0m\u001b[0;34m)\u001b[0m\u001b[0;34m\u001b[0m\u001b[0m\n\u001b[0m\u001b[1;32m      3\u001b[0m \u001b[0mprint\u001b[0m \u001b[0;34m(\u001b[0m\u001b[0;34m\"es test:\"\u001b[0m\u001b[0;34m,\u001b[0m \u001b[0mtest_losses_es\u001b[0m\u001b[0;34m[\u001b[0m\u001b[0;34m-\u001b[0m\u001b[0;36m1\u001b[0m\u001b[0;34m]\u001b[0m\u001b[0;34m)\u001b[0m\u001b[0;34m\u001b[0m\u001b[0m\n",
      "\u001b[0;31mIndexError\u001b[0m: list index out of range"
     ]
    }
   ],
   "source": [
    "print (\"cvgm test:\", test_losses[-1])\n",
    "print (\"rs test:\", test_losses_rs[100])\n",
    "print (\"es test:\", test_losses_es[-1])"
   ]
  },
  {
   "cell_type": "code",
   "execution_count": null,
   "metadata": {
    "collapsed": true
   },
   "outputs": [],
   "source": []
  }
 ],
 "metadata": {
  "kernelspec": {
   "display_name": "Python 3",
   "language": "python",
   "name": "python3"
  },
  "language_info": {
   "codemirror_mode": {
    "name": "ipython",
    "version": 3
   },
   "file_extension": ".py",
   "mimetype": "text/x-python",
   "name": "python",
   "nbconvert_exporter": "python",
   "pygments_lexer": "ipython3",
   "version": "3.6.1"
  }
 },
 "nbformat": 4,
 "nbformat_minor": 2
}
